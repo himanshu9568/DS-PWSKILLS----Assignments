{
 "cells": [
  {
   "cell_type": "markdown",
   "id": "cf89f882",
   "metadata": {},
   "source": [
    "### Assignmeant"
   ]
  },
  {
   "cell_type": "code",
   "execution_count": null,
   "id": "e0d9888d",
   "metadata": {},
   "outputs": [],
   "source": [
    "### Question1 Who developed Python Programming Language? \n",
    "\n",
    "Ans- Guido Van Rossum."
   ]
  },
  {
   "cell_type": "code",
   "execution_count": null,
   "id": "0481be49",
   "metadata": {},
   "outputs": [],
   "source": [
    "### Question2 - Which type of  Programming does Python support? \n",
    "Ans- Both Structured programming and Object-oriented programming "
   ]
  },
  {
   "cell_type": "code",
   "execution_count": null,
   "id": "971feba1",
   "metadata": {},
   "outputs": [],
   "source": [
    "### Question3 - Is Python Case Sensitive when dealing with identigiers?\n",
    "Yes, python Case Sensitive when dealing with identigiers"
   ]
  },
  {
   "cell_type": "code",
   "execution_count": null,
   "id": "0ca3004c",
   "metadata": {},
   "outputs": [],
   "source": [
    "### Question4- What is the Corrct extension of python file?\n",
    "'file.py'"
   ]
  },
  {
   "cell_type": "code",
   "execution_count": null,
   "id": "89b52e73",
   "metadata": {},
   "outputs": [],
   "source": [
    "### Question5- Is Python code compiled or interpreted? \n",
    "\n",
    "Python is first compiled and then interpreted but as soon as code run compliled part get deleted to not make lag. more complex.\n"
   ]
  },
  {
   "cell_type": "code",
   "execution_count": null,
   "id": "57fdf5ce",
   "metadata": {},
   "outputs": [],
   "source": [
    "### Question6 Name a few blocks of code used to define in Python language? \n",
    "Indentation-def,print,if,elif,for,etc."
   ]
  },
  {
   "cell_type": "code",
   "execution_count": null,
   "id": "5702097f",
   "metadata": {},
   "outputs": [],
   "source": [
    "### Question7 State a character used to give single-line comments in Python? \n",
    "'#'"
   ]
  },
  {
   "cell_type": "code",
   "execution_count": null,
   "id": "7c168858",
   "metadata": {},
   "outputs": [],
   "source": [
    "### Question8 What is the maximum possible length of an identifier in Python? \n",
    "79 characters."
   ]
  },
  {
   "cell_type": "code",
   "execution_count": null,
   "id": "16e08a4d",
   "metadata": {},
   "outputs": [],
   "source": [
    "### Question9  What are the benefits of using Python? \n",
    "Python is st popular language nowdays and demanding ,it is easy to use but at the same time work for all type of progeames,\n",
    "the huge amount of librabries hich make it very usefull."
   ]
  },
  {
   "cell_type": "code",
   "execution_count": null,
   "id": "696a5603",
   "metadata": {},
   "outputs": [],
   "source": [
    "### Question10 Mention functions which can help us to find the version of python that we are currently working on? \n",
    "'sys.version' from package, 'sys'"
   ]
  },
  {
   "cell_type": "code",
   "execution_count": null,
   "id": "cfff7aff",
   "metadata": {},
   "outputs": [],
   "source": [
    "### Question11 Python supports the creation of anonymous functions at runtime, using a construct called \n",
    "lambda function"
   ]
  },
  {
   "cell_type": "code",
   "execution_count": null,
   "id": "d35a37ee",
   "metadata": {},
   "outputs": [],
   "source": [
    "### Question12 What does pip stand for python? \n",
    "Preferred installer program"
   ]
  },
  {
   "cell_type": "code",
   "execution_count": null,
   "id": "a0b36a3a",
   "metadata": {},
   "outputs": [],
   "source": [
    "### Question13 Mention a few built-in functions in python? \n",
    "print(),max(),sort(),len(),isnumaric(),min(),type() etc"
   ]
  },
  {
   "cell_type": "code",
   "execution_count": null,
   "id": "ff03d2e6",
   "metadata": {},
   "outputs": [],
   "source": [
    "### Question14. How is memory managed in Python? \n",
    "python manages memory in heap space privately."
   ]
  },
  {
   "cell_type": "code",
   "execution_count": null,
   "id": "6f9494b1",
   "metadata": {},
   "outputs": [],
   "source": [
    "### Question15 How to install Python on Windows and set path variables? \n",
    " download latest version from www.python.org and install it in your system according."
   ]
  },
  {
   "cell_type": "code",
   "execution_count": null,
   "id": "fadd0625",
   "metadata": {},
   "outputs": [],
   "source": [
    "### Question16. Is indentation required in python?\n",
    "\"Yes,it's mandatory\""
   ]
  }
 ],
 "metadata": {
  "kernelspec": {
   "display_name": "Python 3 (ipykernel)",
   "language": "python",
   "name": "python3"
  },
  "language_info": {
   "codemirror_mode": {
    "name": "ipython",
    "version": 3
   },
   "file_extension": ".py",
   "mimetype": "text/x-python",
   "name": "python",
   "nbconvert_exporter": "python",
   "pygments_lexer": "ipython3",
   "version": "3.9.12"
  }
 },
 "nbformat": 4,
 "nbformat_minor": 5
}
