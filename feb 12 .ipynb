{
 "cells": [
  {
   "cell_type": "markdown",
   "id": "954056a4",
   "metadata": {},
   "source": [
    "## 12 Feb Assignment Solution \n",
    "\n",
    "Q1. What is an Exception in python? Write the difference  between Exceptions and Syntax errors\n",
    "\n",
    "* An `unwanted and unexpected event` that disturbs normal flow of program is called exception.\n",
    "\n",
    "* Timming\n",
    "    * A syntax error is when something goes wrong during parsing.\n",
    "    * Exception occurs during execution of program\n",
    "* Reason\n",
    "    * A syntax error occurs when wrong sintax is used\n",
    "    * Exception occurs when there is programming logic issue.\n"
   ]
  },
  {
   "cell_type": "code",
   "execution_count": 1,
   "id": "26f41af7",
   "metadata": {},
   "outputs": [
    {
     "ename": "ZeroDivisionError",
     "evalue": "division by zero",
     "output_type": "error",
     "traceback": [
      "\u001b[1;31m---------------------------------------------------------------------------\u001b[0m",
      "\u001b[1;31mZeroDivisionError\u001b[0m                         Traceback (most recent call last)",
      "Input \u001b[1;32mIn [1]\u001b[0m, in \u001b[0;36m<cell line: 10>\u001b[1;34m()\u001b[0m\n\u001b[0;32m      7\u001b[0m marks \u001b[38;5;241m=\u001b[39m \u001b[38;5;241m10000\u001b[39m\n\u001b[0;32m      9\u001b[0m \u001b[38;5;66;03m# perform division with 0\u001b[39;00m\n\u001b[1;32m---> 10\u001b[0m a \u001b[38;5;241m=\u001b[39m \u001b[43mmarks\u001b[49m\u001b[43m \u001b[49m\u001b[38;5;241;43m/\u001b[39;49m\u001b[43m \u001b[49m\u001b[38;5;241;43m0\u001b[39;49m\n\u001b[0;32m     11\u001b[0m \u001b[38;5;28mprint\u001b[39m(a)\n",
      "\u001b[1;31mZeroDivisionError\u001b[0m: division by zero"
     ]
    }
   ],
   "source": [
    "# Q2. What happens when an exception is not handled? Explin with an example  \n",
    "\n",
    "# * When an exception is not handled\n",
    "#     * It disturbs normal flow of program\n",
    "#     * Complete program will not get executed\n",
    "\n",
    "marks = 10000\n",
    "\n",
    "# perform division with 0\n",
    "a = marks / 0\n",
    "print(a)\n",
    "\n",
    "# * Normal flow of program is disturbed"
   ]
  },
  {
   "cell_type": "markdown",
   "id": "caf77a6b",
   "metadata": {},
   "source": [
    "\n",
    "# Q3. Which Python statements are used to catch and handle exceptions? \n",
    "# Explin with an example\n",
    "try:\n",
    "    Risky Code\n",
    "except XYZ:\n",
    "    Handling code/Alternative Code\n",
    "\n",
    "#The try-except block is used to handle exception\n",
    "\n",
    "\n",
    "try:\n",
    "    marks = 10000\n",
    "\n",
    "    # perform division with 0\n",
    "    a = marks / 0\n",
    "    print(a)\n",
    "except:\n",
    "    print('Exception is handled')\n",
    "\n"
   ]
  },
  {
   "cell_type": "code",
   "execution_count": null,
   "id": "0b752eab",
   "metadata": {},
   "outputs": [],
   "source": [
    "\n",
    "# Q4. Explain with an exmple:\n",
    "#     * try and else\n",
    "#     * finally \n",
    "#     * raise \n",
    "\n",
    "# try-except**\n",
    "#      To handle exception and proper execution of program we put Risky code inside `try-except` block\n",
    "# ```\n",
    "try:\n",
    "    marks = 10000\n",
    "    a = marks / 0\n",
    "    print(a)\n",
    "except:\n",
    "    print('Exception is handled'\n",
    "\n",
    "# * **try-else**\n",
    "#     * If there is no exception then else block will be executed\n",
    "          x,y = 2, 4\n",
    "try:\n",
    "    # Floor Division : Gives only Fractional\n",
    "    # Part as Answer\n",
    "    result = x // y\n",
    "except ZeroDivisionError:\n",
    "    print(\"Sorry ! You are dividing by zero \")\n",
    "else:\n",
    "    print(\"Yeah ! Your answer is :\", result)\n",
    "\n",
    "# * **finally**\n",
    "#     * finally block is `executed always` irrespective of whether exception raised or not raised and whether exception handled or not handled.\n",
    "# \n",
    "try:\n",
    "   k = 5//0 # raises divide by zero exception.\n",
    "   print(k)\n",
    "except ZeroDivisionError:\n",
    "          print(\"Can't divide by zero\")\n",
    "finally:\n",
    "          print('This is always executed')\n",
    "\n",
    "#raise**\n",
    "    # We can define custom exception by using `\"raise\" keyword`\n",
    "age = -1\n",
    "if age < 1:\n",
    "    raise RuntimeError(\"Wrong age\")\n",
    "else:\n",
    "    print(\"Done\")\n"
   ]
  },
  {
   "cell_type": "code",
   "execution_count": null,
   "id": "13925062",
   "metadata": {},
   "outputs": [],
   "source": [
    "# Q5. What are Custom Exceptions in python? Why do we need Custom Exeptions? Explain with an exmple\n",
    "\n",
    "# * Custom exception are those which are created using `\"raise\" keyword`\n",
    "\n",
    "# Some time we have to define and raise exceptions explicitly to indicate that something \n",
    "# goes wrong ,such type of exceptions are called Custom Exceptions\n",
    "\n",
    "# * In the below example an exception is created if the age variable is smaller than 1\n",
    "# ```\n",
    "age = -1\n",
    "if age < 1:\n",
    "    raise RuntimeError(\"Wrong age\")\n",
    "else:\n",
    "    print(\"Done\")\n"
   ]
  },
  {
   "cell_type": "code",
   "execution_count": 7,
   "id": "4e5975f7",
   "metadata": {},
   "outputs": [
    {
     "ename": "NegativeAgeException",
     "evalue": "Age can't be Negative",
     "output_type": "error",
     "traceback": [
      "\u001b[1;31m---------------------------------------------------------------------------\u001b[0m",
      "\u001b[1;31mNegativeAgeException\u001b[0m                      Traceback (most recent call last)",
      "Input \u001b[1;32mIn [7]\u001b[0m, in \u001b[0;36m<cell line: 9>\u001b[1;34m()\u001b[0m\n\u001b[0;32m      8\u001b[0m age \u001b[38;5;241m=\u001b[39m \u001b[38;5;241m-\u001b[39m\u001b[38;5;241m1\u001b[39m\n\u001b[0;32m      9\u001b[0m \u001b[38;5;28;01mif\u001b[39;00m age \u001b[38;5;241m<\u001b[39m \u001b[38;5;241m1\u001b[39m:\n\u001b[1;32m---> 10\u001b[0m     \u001b[38;5;28;01mraise\u001b[39;00m NegativeAgeException(\u001b[38;5;124m\"\u001b[39m\u001b[38;5;124mAge can\u001b[39m\u001b[38;5;124m'\u001b[39m\u001b[38;5;124mt be Negative\u001b[39m\u001b[38;5;124m\"\u001b[39m)\n\u001b[0;32m     11\u001b[0m \u001b[38;5;28;01melse\u001b[39;00m:\n\u001b[0;32m     12\u001b[0m     \u001b[38;5;28mprint\u001b[39m(\u001b[38;5;124m\"\u001b[39m\u001b[38;5;124mValid Age\u001b[39m\u001b[38;5;124m\"\u001b[39m)\n",
      "\u001b[1;31mNegativeAgeException\u001b[0m: Age can't be Negative"
     ]
    }
   ],
   "source": [
    "\n",
    "# Q6. Create  a custom exception class. Use this class to handle an exception\n",
    "\n",
    "\n",
    "class NegativeAgeException(Exception):\n",
    "    def __init__(self,arg):\n",
    "        self.msg=arg\n",
    "\n",
    "age = -1\n",
    "if age < 1:\n",
    "    raise NegativeAgeException(\"Age can't be Negative\")\n",
    "else:\n",
    "    print(\"Valid Age\")\n"
   ]
  },
  {
   "cell_type": "markdown",
   "id": "8ece7d5c",
   "metadata": {},
   "source": []
  },
  {
   "cell_type": "code",
   "execution_count": null,
   "id": "a35fe71a",
   "metadata": {},
   "outputs": [],
   "source": []
  }
 ],
 "metadata": {
  "kernelspec": {
   "display_name": "Python 3 (ipykernel)",
   "language": "python",
   "name": "python3"
  },
  "language_info": {
   "codemirror_mode": {
    "name": "ipython",
    "version": 3
   },
   "file_extension": ".py",
   "mimetype": "text/x-python",
   "name": "python",
   "nbconvert_exporter": "python",
   "pygments_lexer": "ipython3",
   "version": "3.9.12"
  }
 },
 "nbformat": 4,
 "nbformat_minor": 5
}
