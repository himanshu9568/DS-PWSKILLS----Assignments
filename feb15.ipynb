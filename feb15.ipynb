{
 "cells": [
  {
   "cell_type": "markdown",
   "id": "882c84b9",
   "metadata": {},
   "source": [
    "Q1. What is multiprocessing in python? Why is it useful?\n",
    "\n",
    "Multiprocessing refers to the ability of a system to support more than one processor at the same time.\n",
    "\n",
    "Applications in a multiprocessing system are broken to smaller routines that run independently. The operating system allocates these threads to the processors improving performance of the system.\n",
    "\n",
    "The biggest advantage of a multiprocessor system is that it helps you to get more work done in a shorter period."
   ]
  },
  {
   "cell_type": "markdown",
   "id": "e8a5c81e",
   "metadata": {},
   "source": [
    "Q2. What are the differences between multiprocessing and multithreading?\n",
    "\n",
    "A multiprocessing system has more than two processors whereas Multithreading is a program execution technique that allows a single process to have multiple code segments\n",
    "\n",
    "Multiprocessing improves the reliability of the system while in the multithreading process, each thread runs parallel to each other.\n",
    "\n",
    "Multiprocessing helps you to increase computing power whereas multithreading helps you create computing threads of a single process\n",
    "\n",
    "In Multiprocessing, the creation of a process, is slow and resource-specific whereas, in multithreading, the creation of a thread is economical in time and resource.\n",
    "\n",
    "Multithreading avoids pickling, whereas Multiprocessing relies on pickling objects in memory to send to other processes.\n",
    "\n",
    "Multiprocessing system takes less time whereas for job processing a moderate amount of time is taken."
   ]
  },
  {
   "cell_type": "code",
   "execution_count": null,
   "id": "e9b010dc",
   "metadata": {},
   "outputs": [],
   "source": [
    "#Q3. Write a python code to create a process using the multiprocessing module.\n",
    "\n",
    "import time\n",
    "import multiprocessing as mp\n",
    "\n",
    "def task1(sleep_sec):\n",
    "    print(f'Sleeping for {sleep_sec} seconds')\n",
    "    time.sleep(sleep_sec)\n",
    "    print(f'Finished sleeping: {sleep_sec}')\n",
    "\n",
    "\n",
    "if __name__ == \"__main__\":\n",
    "    start_time = time.perf_counter()\n",
    "    p1 = mp.Process(target=task1, args=(3,))\n",
    "    p2 = mp.Process(target=task1, args=(3,))\n",
    "    p1.start()\n",
    "    p2.start()\n",
    "    p1.join()\n",
    "    p2.join()\n",
    "    finish_time = time.perf_counter()\n",
    "    print(f\"Program finished in {(finish_time - start_time):.3f} seconds\""
   ]
  },
  {
   "cell_type": "markdown",
   "id": "e651b2ba",
   "metadata": {},
   "source": [
    "Q4. What is a multiprocessing pool in python? Why is it used?\n",
    "\n",
    "A pool is a collection of processes used to execute tasks in parallel. Pools help divide an enormous task into smaller parts that multiple processors can handle.\n",
    "\n",
    "Withe the Pool we can increase the no of workers and then execute the task simultaneously."
   ]
  },
  {
   "cell_type": "code",
   "execution_count": null,
   "id": "de7bb961",
   "metadata": {},
   "outputs": [],
   "source": [
    "#Q5. How can we create a pool of worker processes in python using the multiprocessing module?\n",
    "\n",
    "import multiprocessing as mp\n",
    "import time\n",
    "def square(n):\n",
    "    time.sleep(2)\n",
    "    res = n**2\n",
    "    print(res, end=' ')\n",
    "    return res\n",
    "\n",
    "if __name__ == '__main__':\n",
    "    with mp.Pool(5) as pool :\n",
    "        out = pool.map(square , [3,4,5,6,6,7,87,8,8])\n",
    "        print(out)\n"
   ]
  },
  {
   "cell_type": "code",
   "execution_count": null,
   "id": "027cc27e",
   "metadata": {},
   "outputs": [],
   "source": [
    "#Q6. Write a python program to create 4 processes, each process should print a different number using the multiprocessing module in python.\n",
    "\n",
    "import multiprocessing as mp\n",
    "import time\n",
    "\n",
    "def work_log(work_data):\n",
    "    print(\" Process %s waiting %s seconds\" % (work_data[0], work_data[1]))\n",
    "    time.sleep(int(work_data[1]))\n",
    "    print(\" Process %s Finished.\" % work_data[0])\n",
    "\n",
    "\n",
    "if __name__ == '__main__':\n",
    "    work = ([\"A\", 5], [\"B\", 2], [\"C\", 1], [\"D\", 3])\n",
    "    p = mp.Pool(4)\n",
    "    p.map(work_log, work)"
   ]
  },
  {
   "cell_type": "code",
   "execution_count": null,
   "id": "9bf7f2fb",
   "metadata": {},
   "outputs": [],
   "source": []
  }
 ],
 "metadata": {
  "kernelspec": {
   "display_name": "Python 3 (ipykernel)",
   "language": "python",
   "name": "python3"
  },
  "language_info": {
   "codemirror_mode": {
    "name": "ipython",
    "version": 3
   },
   "file_extension": ".py",
   "mimetype": "text/x-python",
   "name": "python",
   "nbconvert_exporter": "python",
   "pygments_lexer": "ipython3",
   "version": "3.9.12"
  }
 },
 "nbformat": 4,
 "nbformat_minor": 5
}
