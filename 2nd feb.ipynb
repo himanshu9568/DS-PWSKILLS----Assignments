{
 "cells": [
  {
   "cell_type": "code",
   "execution_count": null,
   "id": "cb083348",
   "metadata": {},
   "outputs": [],
   "source": [
    "\n",
    "# 02 feb Assignment Solution \n",
    "#Q1. What are the characteristics of the tuples? Is tuple immutable?\n",
    "\n",
    " '''Tuple is Read Only version of List\n",
    " Tuple are immutable and insertion order is preserved\n",
    " Duplicates and Heterogeneous objectsare allowed'''\n",
    "\n",
    "\n",
    "\n",
    "\n"
   ]
  },
  {
   "cell_type": "code",
   "execution_count": 7,
   "id": "3bcae83d",
   "metadata": {},
   "outputs": [
    {
     "name": "stdout",
     "output_type": "stream",
     "text": [
      "3\n",
      "3\n"
     ]
    }
   ],
   "source": [
    "#Q2. What are the two tuple methods in python? Give an example of each method. Give a reason why  tuples have only two in-built methods as compared to Lists.\n",
    "\n",
    "#count()- Returns the number of times a specified value occurs in a tuple\n",
    "#index()- Searches the tuple for a specified value and returns the position of where it was found\n",
    "\n",
    "Tuple1 = (0, 1, 2, 3, 2, 3, 1, 3, 2)\n",
    "print(Tuple1.count(3))\n",
    "# 3\n",
    "\n",
    "print(Tuple1.index(3))\n",
    "# 3\n",
    "\n",
    "# Tuple are immutable so they have only 2 in-built methods\n",
    "\n",
    "\n"
   ]
  },
  {
   "cell_type": "code",
   "execution_count": 6,
   "id": "ae693b78",
   "metadata": {},
   "outputs": [
    {
     "name": "stdout",
     "output_type": "stream",
     "text": [
      "[1, 2, 3, 4]\n"
     ]
    }
   ],
   "source": [
    "#Q3.  Which collection datatypes in python do not allow duplicate items? Write a code using a set to remove  duplicates from the given list. \n",
    "List = [1, 1, 1, 2, 1, 3, 1, 4, 2, 1, 2, 2, 2, 3, 2, 4, 3, 1, 3, 2, 3, 3, 3, 4, 4, 1, 4, 2, 4, 3, 4, 4]\n",
    "#set don't allow duplicates\n",
    "\n",
    "List = [1, 1, 1, 2, 1, 3, 1, 4, 2, 1, 2, 2, 2, 3, 2, 4, 3, 1, 3, 2, 3, 3, 3, 4, 4, 1, 4, 2, 4, 3, 4, 4]\n",
    "\n",
    "unique_list = list(set(List))\n",
    "print(unique_list)\n",
    "\n"
   ]
  },
  {
   "cell_type": "code",
   "execution_count": 5,
   "id": "6070abde",
   "metadata": {},
   "outputs": [
    {
     "name": "stdout",
     "output_type": "stream",
     "text": [
      "{40, 10, 50, 20, 60, 30}\n",
      "{1, 2, 40, 10, 50, 20}\n"
     ]
    }
   ],
   "source": [
    "\n",
    "#Q4. Explain the difference between the union() and update() methods for a set. Give an example of  each method. \n",
    "\n",
    "#union() We can use this function to return all elements present in both sets\n",
    "\n",
    "x={10,20,30,40}\n",
    "y={30,40,50,60}\n",
    "\n",
    "print(x.union(y)) \n",
    "\n",
    "\n",
    "#update(x, y, z) To add multiple items to the set\n",
    "\n",
    "s = {10, 20}\n",
    "s.update([40, 50], (1, 2))\n",
    "print(s)\n"
   ]
  },
  {
   "cell_type": "code",
   "execution_count": 4,
   "id": "2c36ed73",
   "metadata": {},
   "outputs": [],
   "source": [
    "\n",
    "\n",
    "#Q5. What is a dictionary? Give an example. Also, state whether a dictionary is ordered or unordered.\n",
    "\n",
    "#Dictionaries are used to store data values in key-value pairs\n",
    "\n",
    "d2 = dict(a=1, b=2,c=3)\n",
    "\n",
    "# As of Python version 3.7, dictionaries are ordered.\n",
    "# In Python 3.6 and earlier, dictionaries are unordered.\n",
    "\n",
    "\n"
   ]
  },
  {
   "cell_type": "code",
   "execution_count": 3,
   "id": "58e6d13b",
   "metadata": {},
   "outputs": [
    {
     "name": "stdout",
     "output_type": "stream",
     "text": [
      "{'a': 1, 'b': {'c': 2, 'd': 3}}\n"
     ]
    }
   ],
   "source": [
    "#Q6. Can we create a nested dictionary? If so, please give an example by creating a simple one-level  nested dictionary.\n",
    "\n",
    "d3 = {'a': 1, 'b': {'c': 2, 'd': 3}}\n",
    "print(d3)\n"
   ]
  },
  {
   "cell_type": "code",
   "execution_count": 2,
   "id": "073498ef",
   "metadata": {},
   "outputs": [
    {
     "name": "stdout",
     "output_type": "stream",
     "text": [
      "{'language': 'Python', 'course': 'Data Science Masters', 'topics': 'Machine Learning'}\n"
     ]
    }
   ],
   "source": [
    "#Q7. Using setdefault() method, create key named topics in the given dictionary and also add the value of  the key as this list ['Python', 'Machine Learning’, 'Deep Learning'] \n",
    "dict1 = {'language' : 'Python', 'course': 'Data Science Masters'}\n",
    "\n",
    "\n",
    "dict1 = {'language' : 'Python', 'course': 'Data Science Masters'}\n",
    "dict1.setdefault('topics', 'Machine Learning')\n",
    "\n",
    "\n",
    "dict1.setdefault('topics', 'Deep Learning')\n",
    "\n",
    "\n",
    "print(dict1)\n",
    "\n"
   ]
  },
  {
   "cell_type": "code",
   "execution_count": 1,
   "id": "813f39a2",
   "metadata": {},
   "outputs": [
    {
     "name": "stdout",
     "output_type": "stream",
     "text": [
      "dict_keys(['Sport', 'Teams'])\n"
     ]
    },
    {
     "data": {
      "text/plain": [
       "dict_items([('Sport', 'Cricket'), ('Teams', ['India', 'Australia', 'England', 'South Africa', 'Sri Lanka', 'New Zealand'])])"
      ]
     },
     "execution_count": 1,
     "metadata": {},
     "output_type": "execute_result"
    }
   ],
   "source": [
    "#Q8. What are the three view objects in dictionaries? Use the three in-built methods in python to display  these three view objects for the given dictionary. \n",
    "dict1 = {'Sport': 'Cricket' , 'Teams': ['India', 'Australia', 'England', 'South Africa', 'Sri Lanka', 'New Zealand']} \n",
    "\n",
    "\n",
    "dict1 = {'Sport': 'Cricket' , 'Teams': ['India', 'Australia', 'England', 'South Africa', 'Sri Lanka', 'New Zealand']}\n",
    "\n",
    "print(dict1.keys())\n",
    "# ['Sport', 'Teams']\n",
    "\n",
    "dict1.values()\n",
    "# ['Cricket', ['India', 'Australia', 'England', 'South Africa', 'Sri Lanka', 'New Zealand']]\n",
    "\n",
    "dict1.items()\n",
    "# [('Sport', 'Cricket'), ('Teams', ['India', 'Australia', 'England', 'South Africa', 'Sri Lanka', 'New Zealand'])]\n"
   ]
  },
  {
   "cell_type": "code",
   "execution_count": null,
   "id": "2bfe32de",
   "metadata": {},
   "outputs": [],
   "source": []
  }
 ],
 "metadata": {
  "kernelspec": {
   "display_name": "Python 3 (ipykernel)",
   "language": "python",
   "name": "python3"
  },
  "language_info": {
   "codemirror_mode": {
    "name": "ipython",
    "version": 3
   },
   "file_extension": ".py",
   "mimetype": "text/x-python",
   "name": "python",
   "nbconvert_exporter": "python",
   "pygments_lexer": "ipython3",
   "version": "3.9.12"
  }
 },
 "nbformat": 4,
 "nbformat_minor": 5
}
