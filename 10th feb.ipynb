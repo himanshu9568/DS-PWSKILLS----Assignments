{
 "cells": [
  {
   "cell_type": "code",
   "execution_count": null,
   "id": "7fd5d706",
   "metadata": {},
   "outputs": [],
   "source": [
    "## 10 Feb Assignment Solution \n",
    "\n",
    "Q1. Which function is used to open a file? What are the different modes of opening a file? Explain each mode of file opening.\n",
    "\n",
    "* Open file using `open()` function\n",
    "* There are many modes for opening a file but 3 are most useful\n",
    "    * Read\n",
    "        * Read the content of the file\n",
    "    * Write\n",
    "        * Create or re-write the content of the file\n",
    "    * Append\n"
   ]
  },
  {
   "cell_type": "code",
   "execution_count": null,
   "id": "232251e3",
   "metadata": {},
   "outputs": [],
   "source": [
    "Q2. Why close() function is used? Why is it important to close a file?\n",
    "\n",
    "* The close() method closes an open file.\n",
    "* You should always close your files, in some cases, due to buffering, changes made to a file may not show until you close the file.\n",
    "\n"
   ]
  },
  {
   "cell_type": "code",
   "execution_count": null,
   "id": "4b2f8462",
   "metadata": {},
   "outputs": [],
   "source": [
    "\n",
    "\n",
    "Q3. Write a python program to create a text file. Write ‘I want to become a Data Scientist’ in that file. Then\n",
    "close the file. Open this file and read the content of the file.\n",
    "\n",
    "```\n",
    "f1 = open(\"test.txt\" ,'w' )\n",
    "f1.write(\"I want to become a Data Scientist\")\n",
    "f1.close()\n",
    "\n",
    "data = open(\"test.txt\" , \"r\")\n",
    "data.read()\n",
    "data.close()\n",
    "```"
   ]
  },
  {
   "cell_type": "code",
   "execution_count": null,
   "id": "8f926181",
   "metadata": {},
   "outputs": [],
   "source": [
    "\n",
    "\n",
    "Q4. Explain the following with python code: read(), readline() and readlines().\n",
    "\n",
    "* read()\n",
    "    * read and reaturn all lines as string\n",
    "* readline()\n",
    "    * reads a line of the file and return it in the form of the string. \n",
    "* readlines()\n",
    "    * reads all the lines at a single go and then return them as each line a string element in a list\n",
    "\n"
   ]
  },
  {
   "cell_type": "code",
   "execution_count": null,
   "id": "db981c13",
   "metadata": {},
   "outputs": [],
   "source": [
    "\n",
    "Q5. Explain why with statement is used with open(). What is the advantage of using with statement and open() together?\n",
    "\n",
    "* The with keyword in Python is used as a context manager.\n",
    "* It making sure to release these resources after usage\n",
    "    * i.e it make sure that file is closed after used\n",
    "\n"
   ]
  },
  {
   "cell_type": "code",
   "execution_count": null,
   "id": "e796d2b3",
   "metadata": {},
   "outputs": [],
   "source": [
    "\n",
    "Q6. Explain the write() and writelines() functions. Give a suitable example.\n",
    "\n",
    "* write() is used to write a string to an already opened file\n",
    "* writelines() method is used to write a list of strings in an opened file\n",
    "\n",
    "```\n",
    "f1 = open(\"test.txt\" ,'w' )\n",
    "f1.write(\"Data Science Masters course\")\n",
    "f1.close()\n",
    "\n",
    "\n",
    "f = open(\"demofile3.txt\", \"a\")\n",
    "f.writelines([\"See you soon!\", \"Over and out.\"])\n",
    "f.close()\n",
    "```"
   ]
  },
  {
   "cell_type": "code",
   "execution_count": null,
   "id": "ae50da5e",
   "metadata": {},
   "outputs": [],
   "source": []
  },
  {
   "cell_type": "code",
   "execution_count": null,
   "id": "ae2538b3",
   "metadata": {},
   "outputs": [],
   "source": []
  }
 ],
 "metadata": {
  "kernelspec": {
   "display_name": "Python 3 (ipykernel)",
   "language": "python",
   "name": "python3"
  },
  "language_info": {
   "codemirror_mode": {
    "name": "ipython",
    "version": 3
   },
   "file_extension": ".py",
   "mimetype": "text/x-python",
   "name": "python",
   "nbconvert_exporter": "python",
   "pygments_lexer": "ipython3",
   "version": "3.9.12"
  }
 },
 "nbformat": 4,
 "nbformat_minor": 5
}
