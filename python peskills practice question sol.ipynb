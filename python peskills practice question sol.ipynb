{
 "cells": [
  {
   "cell_type": "markdown",
   "id": "c06a643b",
   "metadata": {},
   "source": [
    "Q1. Write a Python program that defines a function called \"add_numbers\" that takes two arguments (i.e.,\n",
    "numbers) and returns their sum. Within the function, add the two numbers together and return the result\n",
    "using the return statement. Call the function with the values 5 and 6, and print out the returned result.\n",
    "This will result in the addition of 5 and 6, with the output of the program being the sum of these two\n",
    "numbers."
   ]
  },
  {
   "cell_type": "code",
   "execution_count": 8,
   "id": "45319369",
   "metadata": {},
   "outputs": [],
   "source": [
    "def add_numbers(a,b):\n",
    "    return (\"the sum of these two numbers {} and {}  is {} \".format(a,b,a+b)) \n",
    "    \n",
    "    "
   ]
  },
  {
   "cell_type": "code",
   "execution_count": 9,
   "id": "da80dd97",
   "metadata": {},
   "outputs": [
    {
     "data": {
      "text/plain": [
       "'the sum of these two numbers 4 and 5  is 9 '"
      ]
     },
     "execution_count": 9,
     "metadata": {},
     "output_type": "execute_result"
    }
   ],
   "source": [
    "add_numbers(4,5)"
   ]
  },
  {
   "cell_type": "markdown",
   "id": "03d4640f",
   "metadata": {},
   "source": [
    "Q2. Write a Python program that calculates the square root of a given number using a built-in function.\n",
    "Specifically, the program should take an integer or float input from the user, calculate its square root\n",
    "using the 'sqrt()' function from the 'math' module, and print out the result to the user. As an example,\n",
    "calculate the square root of the number 625 using this program, which should output the value of 25."
   ]
  },
  {
   "cell_type": "code",
   "execution_count": 13,
   "id": "73961124",
   "metadata": {},
   "outputs": [],
   "source": [
    "import math\n",
    "def sqfun():\n",
    "    num = float(input(\"enter number : \"))\n",
    "    return math.sqrt(num)\n",
    "    \n",
    "    \n",
    "    "
   ]
  },
  {
   "cell_type": "code",
   "execution_count": 14,
   "id": "3a48af2a",
   "metadata": {},
   "outputs": [
    {
     "name": "stdout",
     "output_type": "stream",
     "text": [
      "enter number : 625\n"
     ]
    },
    {
     "data": {
      "text/plain": [
       "25.0"
      ]
     },
     "execution_count": 14,
     "metadata": {},
     "output_type": "execute_result"
    }
   ],
   "source": [
    "sqfun()"
   ]
  },
  {
   "cell_type": "markdown",
   "id": "b30379c1",
   "metadata": {},
   "source": [
    "Q3.Write a program that prints all prime numbers between 0 to 50."
   ]
  },
  {
   "cell_type": "code",
   "execution_count": 37,
   "id": "9ffb053e",
   "metadata": {},
   "outputs": [],
   "source": [
    "\n",
    "def pnum():\n",
    "    \n",
    "    for i in range(2,51):\n",
    "\n",
    "        \n",
    "        for j in range(2,i):\n",
    "            if i%j==0:\n",
    "                break\n",
    "        else:\n",
    "            print(i)\n",
    "        \n",
    "        "
   ]
  },
  {
   "cell_type": "code",
   "execution_count": 38,
   "id": "5e131aca",
   "metadata": {},
   "outputs": [
    {
     "name": "stdout",
     "output_type": "stream",
     "text": [
      "2\n",
      "3\n",
      "5\n",
      "7\n",
      "11\n",
      "13\n",
      "17\n",
      "19\n",
      "23\n",
      "29\n",
      "31\n",
      "37\n",
      "41\n",
      "43\n",
      "47\n"
     ]
    }
   ],
   "source": [
    "pnum()"
   ]
  },
  {
   "cell_type": "markdown",
   "id": "5ad5cd57",
   "metadata": {},
   "source": [
    "Q4.How can we swap the values of three variables (let's say a, b, and c) without using a fourth variable?\n",
    "For example, if we have a=5, b=8, and c=9, how can we obtain a=9, b=5, and c=8? The challenge is to\n",
    "perform this operation without using an additional variable to store any of the values during the\n",
    "swapping process."
   ]
  },
  {
   "cell_type": "code",
   "execution_count": 40,
   "id": "b3119460",
   "metadata": {},
   "outputs": [],
   "source": [
    "a,b,c=5,8,9\n"
   ]
  },
  {
   "cell_type": "code",
   "execution_count": 41,
   "id": "310a6036",
   "metadata": {},
   "outputs": [],
   "source": [
    "a,b,c=c,a,b"
   ]
  },
  {
   "cell_type": "code",
   "execution_count": 42,
   "id": "8619db8f",
   "metadata": {},
   "outputs": [
    {
     "data": {
      "text/plain": [
       "(9, 5, 8)"
      ]
     },
     "execution_count": 42,
     "metadata": {},
     "output_type": "execute_result"
    }
   ],
   "source": [
    "a,b,c"
   ]
  },
  {
   "cell_type": "markdown",
   "id": "eccd655d",
   "metadata": {},
   "source": [
    "Q5. Can you write a program that determines the nature of a given number (in this case, 87) as being\n",
    "positive, negative, or zero? The program should be designed to take the number as input and perform the\n",
    "necessary calculations to determine if the number is positive (i.e., greater than zero), negative (i.e., less\n",
    "than zero), or zero (i.e., equal to zero). The output of the program should indicate which of these three\n",
    "categories the given number falls into."
   ]
  },
  {
   "cell_type": "code",
   "execution_count": 51,
   "id": "2c555dde",
   "metadata": {},
   "outputs": [
    {
     "name": "stdout",
     "output_type": "stream",
     "text": [
      "enter number : sdasf\n",
      "type correct number  invalid literal for int() with base 10: 'sdasf'\n"
     ]
    }
   ],
   "source": [
    "try:\n",
    "    num = int(input(\"enter number : \"))\n",
    "\n",
    "    if num==0:\n",
    "        print(\"The number i equal to zero\")\n",
    "    elif num>0:\n",
    "        print('The number is greater than zero')\n",
    "    \n",
    "    else:\n",
    "        print(\"number is less than zero\")\n",
    "except Exception as e:\n",
    "    print(\"type correct number \",e)"
   ]
  },
  {
   "cell_type": "markdown",
   "id": "fdfe2908",
   "metadata": {},
   "source": [
    "Q6. How can you create a program that determines whether a given number (in this case, 98) is even or\n",
    "odd? The program should be designed to take the number as input and perform the necessary\n",
    "calculations to determine whether it is divisible by two. If the number is divisible by two without leaving a\n",
    "remainder, it is an even number, and if there is a remainder, it is an odd number. The output of the\n",
    "program should indicate whether the given number is even or odd."
   ]
  },
  {
   "cell_type": "code",
   "execution_count": 49,
   "id": "1438c499",
   "metadata": {},
   "outputs": [
    {
     "name": "stdout",
     "output_type": "stream",
     "text": [
      "enter number : jghfdss\n",
      "invalid literal for int() with base 10: 'jghfdss'\n"
     ]
    }
   ],
   "source": [
    "try:\n",
    "    num = int(input(\"enter number : \"))\n",
    "\n",
    "    if num%2==0:\n",
    "        print(\"the num is even\")\n",
    "    elif num%2!=0:\n",
    "        print(\"num is odd\")\n",
    "    else:\n",
    "        print(\"number is 0\")\n",
    "except Exception as e:\n",
    "    print(\"type correct number \",e)        "
   ]
  },
  {
   "cell_type": "markdown",
   "id": "11ed9d96",
   "metadata": {},
   "source": [
    "Q7.Write a program for sum of digits.the digits are 76543 and the output should be 25."
   ]
  },
  {
   "cell_type": "code",
   "execution_count": 58,
   "id": "25a7abc5",
   "metadata": {},
   "outputs": [
    {
     "data": {
      "text/plain": [
       "25"
      ]
     },
     "execution_count": 58,
     "metadata": {},
     "output_type": "execute_result"
    }
   ],
   "source": [
    "list1= [7,6,5,4,3]\n",
    "sum(list1)"
   ]
  },
  {
   "cell_type": "code",
   "execution_count": 67,
   "id": "301e1968",
   "metadata": {},
   "outputs": [
    {
     "data": {
      "text/plain": [
       "25"
      ]
     },
     "execution_count": 67,
     "metadata": {},
     "output_type": "execute_result"
    }
   ],
   "source": [
    "import functools\n",
    "from functools import reduce\n",
    "\n",
    "reduce(lambda x,y : x+y ,list1)\n",
    "\n",
    "    "
   ]
  },
  {
   "cell_type": "markdown",
   "id": "c9fce421",
   "metadata": {},
   "source": [
    "Q8.Write a program for reversing the given number 5436 and the output should be 6345."
   ]
  },
  {
   "cell_type": "code",
   "execution_count": 73,
   "id": "c637e48d",
   "metadata": {},
   "outputs": [],
   "source": [
    "num = 5436\n",
    "reversed = int(str(num)[::-1])"
   ]
  },
  {
   "cell_type": "code",
   "execution_count": 74,
   "id": "f8e25b11",
   "metadata": {},
   "outputs": [
    {
     "data": {
      "text/plain": [
       "6345"
      ]
     },
     "execution_count": 74,
     "metadata": {},
     "output_type": "execute_result"
    }
   ],
   "source": [
    "reversed"
   ]
  },
  {
   "cell_type": "markdown",
   "id": "31380b1a",
   "metadata": {},
   "source": [
    "Q9.Write a program to check if a given number 371 is an Armstrong number?"
   ]
  },
  {
   "cell_type": "code",
   "execution_count": 104,
   "id": "bb5ab17c",
   "metadata": {},
   "outputs": [
    {
     "name": "stdout",
     "output_type": "stream",
     "text": [
      "yes it is Armstrong\n"
     ]
    }
   ],
   "source": [
    "num = 371\n",
    "power = int(len(str(num)))\n",
    "result= 0\n",
    "for i in str(num):\n",
    "     result +=  int(i)**power\n",
    "if result==num:\n",
    "    print('yes it is Armstrong')\n",
    "else: \n",
    "    print('no! number is not ArmStrong')"
   ]
  },
  {
   "cell_type": "markdown",
   "id": "012fec94",
   "metadata": {},
   "source": [
    "Q10.Write a program the given year is 1996, a leap year."
   ]
  },
  {
   "cell_type": "code",
   "execution_count": 138,
   "id": "b2eddcdb",
   "metadata": {},
   "outputs": [
    {
     "name": "stdout",
     "output_type": "stream",
     "text": [
      "not\n"
     ]
    }
   ],
   "source": [
    "year = 2100\n",
    "if year%4==0:\n",
    "    if year%100==0:\n",
    "        if year%400==0:\n",
    "            print(\"yes\")\n",
    "        else:\n",
    "            print(\"not\")\n",
    "    else:\n",
    "        print(\"yes\")\n",
    "else:\n",
    "    print(\"not\")\n",
    " \n",
    "    \n"
   ]
  },
  {
   "cell_type": "code",
   "execution_count": 126,
   "id": "0fe290e7",
   "metadata": {},
   "outputs": [
    {
     "name": "stdout",
     "output_type": "stream",
     "text": [
      "2100 is not a leap year\n"
     ]
    }
   ],
   "source": [
    "year = 2100\n",
    "\n",
    "if year % 4 == 0:\n",
    "    if year % 100 == 0:\n",
    "        if year % 400 == 0:\n",
    "            print(year, \"is a leap year\")\n",
    "        else:\n",
    "            print(year, \"is not a leap year\")\n",
    "    else:\n",
    "        print(year, \"is a leap year\")\n",
    "else:\n",
    "    print(year, \"is not a leap year\")\n"
   ]
  },
  {
   "cell_type": "code",
   "execution_count": 144,
   "id": "5a9c9d5d",
   "metadata": {},
   "outputs": [],
   "source": [
    "def is_leap_year(year):\n",
    "    return year % 4 == 0 and (year % 100 != 0 or year % 400 == 0)\n"
   ]
  },
  {
   "cell_type": "code",
   "execution_count": 146,
   "id": "538b934c",
   "metadata": {},
   "outputs": [
    {
     "data": {
      "text/plain": [
       "False"
      ]
     },
     "execution_count": 146,
     "metadata": {},
     "output_type": "execute_result"
    }
   ],
   "source": [
    "is_leap_year(2001)"
   ]
  },
  {
   "cell_type": "code",
   "execution_count": null,
   "id": "4bee04b3",
   "metadata": {},
   "outputs": [],
   "source": []
  }
 ],
 "metadata": {
  "kernelspec": {
   "display_name": "Python 3 (ipykernel)",
   "language": "python",
   "name": "python3"
  },
  "language_info": {
   "codemirror_mode": {
    "name": "ipython",
    "version": 3
   },
   "file_extension": ".py",
   "mimetype": "text/x-python",
   "name": "python",
   "nbconvert_exporter": "python",
   "pygments_lexer": "ipython3",
   "version": "3.9.12"
  }
 },
 "nbformat": 4,
 "nbformat_minor": 5
}
