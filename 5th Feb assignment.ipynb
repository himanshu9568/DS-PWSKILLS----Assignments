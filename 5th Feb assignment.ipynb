{
 "cells": [
  {
   "cell_type": "markdown",
   "id": "69b182fb",
   "metadata": {},
   "source": [
    "Q1. Explain Class and Object with respect to Object-Oriented Programming. Give a suitable example."
   ]
  },
  {
   "cell_type": "markdown",
   "id": "d7087ce3",
   "metadata": {},
   "source": [
    "Class - A class is a bluprint for creating objects.\n",
    "\n",
    "Object - An object is an initiation of a class. - Objects of a given class can invoke the methods available to it without revealing the implementation details to the user.\n",
    "Example:\n",
    "\n",
    "Let consider a class Employee with attributes name, age, designation and salary.\n",
    "\n",
    "An employee with name = 'Sohan', Age = 25, designation = \"Manager\" and salary = 1000.\n",
    "\n",
    "Here the particular employee Sohan is an object of the class Employee. or Sohan is an instance of the class Employee.\n"
   ]
  },
  {
   "cell_type": "markdown",
   "id": "0011c864",
   "metadata": {},
   "source": [
    "Q2. Name the four pillars of OOPs."
   ]
  },
  {
   "cell_type": "markdown",
   "id": "15d74f57",
   "metadata": {},
   "source": [
    "The four pillars of OOPs are Polymorphism, Encapsulation, Inheritance and Abstraction."
   ]
  },
  {
   "cell_type": "markdown",
   "id": "e11d7c1d",
   "metadata": {},
   "source": [
    "Q3. Explain why the __init__() function is used. Give a suitable example."
   ]
  },
  {
   "cell_type": "markdown",
   "id": "4daa26b4",
   "metadata": {},
   "source": [
    "init() is a method which is termed as constructor that takes self argument with a function call and initializes the attibute of the instance of the class at the time of creating it."
   ]
  },
  {
   "cell_type": "code",
   "execution_count": 7,
   "id": "f0988c7d",
   "metadata": {},
   "outputs": [
    {
     "name": "stdout",
     "output_type": "stream",
     "text": [
      "The salary of Sohan is 1000\n"
     ]
    }
   ],
   "source": [
    "class Employee:\n",
    "    def __init__(self, name, salary):\n",
    "        self.name = name\n",
    "        self.salary = salary\n",
    "\n",
    "    def sal(self):\n",
    "        print(f\"The salary of {self.name} is {self.salary}\")\n",
    "\n",
    "\n",
    "# Initializes the object E1 with attributes name = \"Sohan\" and salary = \"1000\"\n",
    "E1 = Employee(\"Sohan\", 1000)\n",
    "E1.sal()\n"
   ]
  },
  {
   "cell_type": "markdown",
   "id": "ee657f0b",
   "metadata": {},
   "source": [
    "Q4. Why self is used in OOPs?"
   ]
  },
  {
   "cell_type": "markdown",
   "id": "56b45870",
   "metadata": {},
   "source": [
    "The self parameter refers to the instance of the class.\n",
    "It is automatically passed with a function call from an object.\n",
    "It differentiates the class variable and object variable\n"
   ]
  },
  {
   "cell_type": "code",
   "execution_count": null,
   "id": "c7eb67ca",
   "metadata": {},
   "outputs": [],
   "source": []
  },
  {
   "cell_type": "code",
   "execution_count": null,
   "id": "8ef988c5",
   "metadata": {},
   "outputs": [],
   "source": []
  }
 ],
 "metadata": {
  "kernelspec": {
   "display_name": "Python 3 (ipykernel)",
   "language": "python",
   "name": "python3"
  },
  "language_info": {
   "codemirror_mode": {
    "name": "ipython",
    "version": 3
   },
   "file_extension": ".py",
   "mimetype": "text/x-python",
   "name": "python",
   "nbconvert_exporter": "python",
   "pygments_lexer": "ipython3",
   "version": "3.9.12"
  }
 },
 "nbformat": 4,
 "nbformat_minor": 5
}
