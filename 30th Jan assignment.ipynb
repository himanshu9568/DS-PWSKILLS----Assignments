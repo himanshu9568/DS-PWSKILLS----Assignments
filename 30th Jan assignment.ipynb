{
 "cells": [
  {
   "cell_type": "markdown",
   "id": "6b4b9597",
   "metadata": {},
   "source": [
    "1. Write a program to accept percentage from the user and display the grade according to the following ."
   ]
  },
  {
   "cell_type": "code",
   "execution_count": 4,
   "id": "2b211e8c",
   "metadata": {},
   "outputs": [
    {
     "name": "stdout",
     "output_type": "stream",
     "text": [
      "ENTER YOUR PERCENTAGE: 20\n",
      "Your grade : D\n"
     ]
    }
   ],
   "source": [
    "percentage = int(input('ENTER YOUR PERCENTAGE: '))\n",
    "\n",
    "if percentage > 90:\n",
    "    print('Your grade : A')\n",
    "elif percentage > 80 and percentage<=90:\n",
    "    print('Your grade : B')\n",
    "elif percentage >=60 and percentage <=80:\n",
    "    print('Your grade : c')\n",
    "else:\n",
    "    print('Your grade : D')\n"
   ]
  },
  {
   "cell_type": "markdown",
   "id": "7a44ba4e",
   "metadata": {},
   "source": [
    "2. Write a program to accept the cost price of a bike and display the road tax to be paid according to the \n",
    "following criteria: "
   ]
  },
  {
   "cell_type": "code",
   "execution_count": 9,
   "id": "7809082c",
   "metadata": {},
   "outputs": [
    {
     "name": "stdout",
     "output_type": "stream",
     "text": [
      "Enter the cp: 1000000\n",
      " the road tax to be paid: 150000.0 150000.0\n"
     ]
    }
   ],
   "source": [
    "cost_price = int(input('Enter the cp: '))\n",
    "if cost_price > 100000:\n",
    "    road_tax = cost_price*0.15 \n",
    "elif cost_price >  50000 and cost_price<=100000:\n",
    "    road_tax = cost_price*0.10 \n",
    "elif cost_price <= 50000:\n",
    "     road_tax = cost_price*0.05\n",
    "print(f\" the road tax to be paid: {road_tax}\",road_tax)\n"
   ]
  },
  {
   "cell_type": "markdown",
   "id": "8796f549",
   "metadata": {},
   "source": [
    "3. Accept any city from the user and display monuments of that city"
   ]
  },
  {
   "cell_type": "code",
   "execution_count": 12,
   "id": "049f654c",
   "metadata": {},
   "outputs": [
    {
     "name": "stdout",
     "output_type": "stream",
     "text": [
      "{1: 'Delhi', 2: 'Agra', 3: 'Jaipur'}\n",
      "ENTER the code : 1\n",
      "Monuments of Delhi is Red Fort\n"
     ]
    }
   ],
   "source": [
    "dirct = {1:'Delhi',2:'Agra',3:'Jaipur'}\n",
    "print(dirct)\n",
    "city = int(input('ENTER the code : '))\n",
    "\n",
    "\n",
    "if city ==1:\n",
    "    print('Monuments of Delhi is Red Fort')\n",
    "elif city == 2:\n",
    "    print('Monuments of Agra is Taj Mahal')\n",
    "elif city == 3:\n",
    "  print('Monuments of Jaipur is Jal Mahal')\n"
   ]
  },
  {
   "cell_type": "code",
   "execution_count": null,
   "id": "4573a17c",
   "metadata": {},
   "outputs": [],
   "source": []
  },
  {
   "cell_type": "code",
   "execution_count": null,
   "id": "57e2eee8",
   "metadata": {},
   "outputs": [],
   "source": [
    "n =int\n",
    "count = 0\n",
    "for i in n:\n",
    "    "
   ]
  },
  {
   "cell_type": "code",
   "execution_count": null,
   "id": "76c05bb1",
   "metadata": {},
   "outputs": [],
   "source": []
  },
  {
   "cell_type": "markdown",
   "id": "95a334bf",
   "metadata": {},
   "source": [
    ". Why and When to Use while Loop in Python give a detailed description with example"
   ]
  },
  {
   "cell_type": "code",
   "execution_count": 16,
   "id": "18d400cc",
   "metadata": {},
   "outputs": [
    {
     "name": "stdout",
     "output_type": "stream",
     "text": [
      "1\n",
      "2\n",
      "3\n",
      "4\n",
      "5\n"
     ]
    }
   ],
   "source": [
    "#When we have a perticular condition.for example\n",
    "x=1\n",
    "while x<=5:\n",
    "    print(x)\n",
    "    x=x+1\n",
    "    "
   ]
  },
  {
   "cell_type": "markdown",
   "id": "eff42a45",
   "metadata": {},
   "source": [
    "6. Use nested while loop to print 3 different pattern. \n"
   ]
  },
  {
   "cell_type": "code",
   "execution_count": 39,
   "id": "5db92e7c",
   "metadata": {},
   "outputs": [
    {
     "name": "stdout",
     "output_type": "stream",
     "text": [
      "12345\n",
      "1234\n",
      "123\n",
      "12\n",
      "1\n"
     ]
    }
   ],
   "source": [
    "# 1st pattern\n",
    "n = 5\n",
    "while (n > 0):\n",
    "    m = 0\n",
    "    while (m< n):\n",
    "        print(m+1,end='')\n",
    "        m=m+1\n",
    "    n =n-1\n",
    "    print(\"\")"
   ]
  },
  {
   "cell_type": "code",
   "execution_count": 40,
   "id": "7f7cfad8",
   "metadata": {},
   "outputs": [
    {
     "name": "stdout",
     "output_type": "stream",
     "text": [
      "1\n",
      "21\n",
      "321\n",
      "4321\n",
      "54321\n"
     ]
    },
    {
     "data": {
      "text/plain": [
       "1"
      ]
     },
     "execution_count": 40,
     "metadata": {},
     "output_type": "execute_result"
    }
   ],
   "source": [
    "i = int(5)\n",
    "count = int(1)\n",
    "while (i > 0):\n",
    "    j = i - count\n",
    "    while (j < i):\n",
    "        print(i - j, end='')\n",
    "        j += 1\n",
    "    i -= 1\n",
    "    count += 1\n",
    "    print(\"\")\n",
    "1"
   ]
  },
  {
   "cell_type": "code",
   "execution_count": 41,
   "id": "597c3e0e",
   "metadata": {},
   "outputs": [
    {
     "name": "stdout",
     "output_type": "stream",
     "text": [
      "54321\n",
      "4321\n",
      "321\n",
      "21\n",
      "1\n"
     ]
    }
   ],
   "source": [
    "i = int(5)\n",
    "while (i > 0):\n",
    "    j = i\n",
    "    while (j > 0):\n",
    "        print(j, end='')\n",
    "        j -= 1\n",
    "    print(\"\")\n",
    "    i -= 1"
   ]
  },
  {
   "cell_type": "markdown",
   "id": "d4839d0c",
   "metadata": {},
   "source": [
    "7. Reverse a while loop to display numbers from 10 to 1. \n"
   ]
  },
  {
   "cell_type": "code",
   "execution_count": 24,
   "id": "a83b37cd",
   "metadata": {},
   "outputs": [
    {
     "name": "stdout",
     "output_type": "stream",
     "text": [
      "10\n",
      "9\n",
      "8\n",
      "7\n",
      "6\n",
      "5\n",
      "4\n",
      "3\n",
      "2\n",
      "1\n"
     ]
    }
   ],
   "source": [
    "x =10\n",
    "while x>=1:\n",
    "    print(x)\n",
    "    x=x-1"
   ]
  },
  {
   "cell_type": "markdown",
   "id": "24ec7da7",
   "metadata": {},
   "source": [
    "8. Reverse a while loop to display numbers from 10 to 1. \n"
   ]
  },
  {
   "cell_type": "code",
   "execution_count": 26,
   "id": "1deb7229",
   "metadata": {},
   "outputs": [
    {
     "name": "stdout",
     "output_type": "stream",
     "text": [
      "10\n",
      "9\n",
      "8\n",
      "7\n",
      "6\n",
      "5\n",
      "4\n",
      "3\n",
      "2\n",
      "1\n"
     ]
    }
   ],
   "source": [
    "i=10\n",
    "while i>=1:\n",
    "    print(i)\n",
    "    i=i-1"
   ]
  },
  {
   "cell_type": "code",
   "execution_count": null,
   "id": "d1a30839",
   "metadata": {},
   "outputs": [],
   "source": []
  }
 ],
 "metadata": {
  "kernelspec": {
   "display_name": "Python 3 (ipykernel)",
   "language": "python",
   "name": "python3"
  },
  "language_info": {
   "codemirror_mode": {
    "name": "ipython",
    "version": 3
   },
   "file_extension": ".py",
   "mimetype": "text/x-python",
   "name": "python",
   "nbconvert_exporter": "python",
   "pygments_lexer": "ipython3",
   "version": "3.9.12"
  }
 },
 "nbformat": 4,
 "nbformat_minor": 5
}
