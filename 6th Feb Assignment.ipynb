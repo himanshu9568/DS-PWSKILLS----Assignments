{
 "cells": [
  {
   "cell_type": "markdown",
   "id": "235031bb",
   "metadata": {},
   "source": [
    "#### Q1. Create a function which will take a list as an argument and return the product of all the numbers after creating a flat list. Use the below-given list as an argument for your function. list1 = [1,2,3,4, [44,55,66, True], False, (34,56,78,89,34), {1,2,3,3,2,1}, {1:34, \"key2\": [55, 67, 78, 89], 4: (45, 22, 61, 34)}, [56, 'data science'], 'Machine Learning'] Note: you must extract numeric keys and values of the dictionary also."
   ]
  },
  {
   "cell_type": "code",
   "execution_count": 4,
   "id": "e15f498c",
   "metadata": {},
   "outputs": [],
   "source": [
    "list1 = [1,2,3,4, [44,55,66, True], False, (34,56,78,89,34), {1,2,3,3,2,1}, {1:34, \"key2\": [55, 67, 78, 89], 4: (45,\n",
    "22, 61, 34)}, [56, 'data science'], 'Machine Learning']"
   ]
  },
  {
   "cell_type": "code",
   "execution_count": 129,
   "id": "4d928589",
   "metadata": {},
   "outputs": [],
   "source": [
    "def return_pro(list1):\n",
    "    list2 = []\n",
    "    for i in list1:\n",
    "        if type(i)==int :\n",
    "             list2.append(i)\n",
    "        elif type(i) == list or type(i)==tuple or type(i) == set or type(i)==float :\n",
    "            for k in i:\n",
    "                if type(k)==int:\n",
    "                    list2.append(k)\n",
    "        elif type(i) == dict:\n",
    "                  x =i.values()\n",
    "                  for i in x:\n",
    "                        if type(i)== int:\n",
    "                            list2.append(i)\n",
    "                        elif type(i)==list or type(i)==tuple:\n",
    "                            for i in i:\n",
    "                                list2.append(i);\n",
    "    results = 1\n",
    "    for i in list2:\n",
    "        results = results * i\n",
    "    return results \n",
    "#     return list2  "
   ]
  },
  {
   "cell_type": "code",
   "execution_count": 130,
   "id": "08e53ab5",
   "metadata": {},
   "outputs": [
    {
     "data": {
      "text/plain": [
       "1033677959746771369708460310528000"
      ]
     },
     "execution_count": 130,
     "metadata": {},
     "output_type": "execute_result"
    }
   ],
   "source": [
    "return_pro(list1)"
   ]
  },
  {
   "cell_type": "code",
   "execution_count": 125,
   "id": "f99d1228",
   "metadata": {},
   "outputs": [],
   "source": [
    "list5"
   ]
  },
  {
   "cell_type": "code",
   "execution_count": 131,
   "id": "9ea59a58",
   "metadata": {},
   "outputs": [],
   "source": [
    "def return_pro2(list1):\n",
    "    list2 = []\n",
    "    for i in list1:\n",
    "        if type(i)==int :\n",
    "             list2.append(i)\n",
    "        elif type(i) == list or type(i)==tuple or type(i) == set or type(i)==float :\n",
    "            for k in i:\n",
    "                if type(k)==int:\n",
    "                    list2.append(k)\n",
    "        elif type(i) == dict:\n",
    "                  x =i.values()\n",
    "                  for i in x:\n",
    "                        if type(i)== int:\n",
    "                            list2.append(i)\n",
    "                        elif type(i)==list or type(i)==tuple:\n",
    "                            for i in i:\n",
    "                                list2.append(i);\n",
    "#     results = 1\n",
    "#     for i in list2:\n",
    "#         results = results * i\n",
    "#     return results \n",
    "    return list2  "
   ]
  },
  {
   "cell_type": "code",
   "execution_count": 132,
   "id": "cc68ad89",
   "metadata": {},
   "outputs": [
    {
     "data": {
      "text/plain": [
       "[1,\n",
       " 2,\n",
       " 3,\n",
       " 4,\n",
       " 44,\n",
       " 55,\n",
       " 66,\n",
       " 34,\n",
       " 56,\n",
       " 78,\n",
       " 89,\n",
       " 34,\n",
       " 1,\n",
       " 2,\n",
       " 3,\n",
       " 34,\n",
       " 55,\n",
       " 67,\n",
       " 78,\n",
       " 89,\n",
       " 45,\n",
       " 22,\n",
       " 61,\n",
       " 34,\n",
       " 56]"
      ]
     },
     "execution_count": 132,
     "metadata": {},
     "output_type": "execute_result"
    }
   ],
   "source": [
    " return_pro2(list1)"
   ]
  },
  {
   "cell_type": "code",
   "execution_count": 32,
   "id": "79182f19",
   "metadata": {},
   "outputs": [],
   "source": [
    "l9=[1,2,3,4,44, 55, 66,34, 56, 78, 89, 34,1, 2, 3, 34, 55, 67, 78, 89,  45, 22, 61, 34,56]\n",
    " "
   ]
  },
  {
   "cell_type": "code",
   "execution_count": 34,
   "id": "a83a83c9",
   "metadata": {},
   "outputs": [],
   "source": [
    "from  functools import reduce"
   ]
  },
  {
   "cell_type": "code",
   "execution_count": 36,
   "id": "d4ef5c9a",
   "metadata": {},
   "outputs": [
    {
     "name": "stdout",
     "output_type": "stream",
     "text": [
      "1033677959746771369708460310528000\n"
     ]
    }
   ],
   "source": [
    "print(functools.reduce(lambda a,b:a*b,l9))"
   ]
  },
  {
   "cell_type": "markdown",
   "id": "767df0a1",
   "metadata": {},
   "source": [
    " ***Q2. Write a python program for encrypting a message sent to you by your friend. The logic of encryption\n",
    "should be such that, for a the output should be z. For b, the output should be y. For c, the output should\n",
    "be x respectively. Also, the whitespace should be replaced with a dollar sign. Keep the punctuation\n",
    "marks unchanged.***\n",
    "\n",
    "***Input Sentence: I want to become a Data Scientist.***\n",
    "\n",
    "***Encrypt the above input sentence using the program you just created.\n",
    "Note: Convert the given input sentence into lowercase before encrypting. The final output should be\n",
    "lowercase.***"
   ]
  },
  {
   "cell_type": "code",
   "execution_count": null,
   "id": "5f799891",
   "metadata": {},
   "outputs": [],
   "source": []
  }
 ],
 "metadata": {
  "kernelspec": {
   "display_name": "Python 3 (ipykernel)",
   "language": "python",
   "name": "python3"
  },
  "language_info": {
   "codemirror_mode": {
    "name": "ipython",
    "version": 3
   },
   "file_extension": ".py",
   "mimetype": "text/x-python",
   "name": "python",
   "nbconvert_exporter": "python",
   "pygments_lexer": "ipython3",
   "version": "3.9.12"
  }
 },
 "nbformat": 4,
 "nbformat_minor": 5
}
