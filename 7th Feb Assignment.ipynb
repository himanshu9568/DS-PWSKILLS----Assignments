{
 "cells": [
  {
   "cell_type": "markdown",
   "id": "b13c15a9",
   "metadata": {},
   "source": [
    "Q1. You are writing code for a company. The requirement of the company is that you create a python\n",
    "function that will check whether the password entered by the user is correct or not. The function should\n",
    "take the password as input and return the string “Valid Password” if the entered password follows the\n",
    "below-given password guidelines else it should return “Invalid Password”.\n",
    "\n",
    "\n",
    "\n",
    "Note:\n",
    "1. The Password should contain at least two uppercase letters and at least two lowercase letters.\n",
    "2. The Password should contain at least a number and three special characters.\n",
    "3. The length of the password should be 10 characters long."
   ]
  },
  {
   "cell_type": "code",
   "execution_count": 17,
   "id": "e44300bb",
   "metadata": {
    "scrolled": true
   },
   "outputs": [
    {
     "name": "stdout",
     "output_type": "stream",
     "text": [
      "Valid Password\n",
      "Invalid Password\n",
      "Valid Password\n",
      "Invalid Password\n"
     ]
    }
   ],
   "source": [
    "def chkpass(psd):\n",
    "    uc, uf, lc, lf, intc, intf, sc, sf = 0, 0, 0, 0, 0, 0, 0, 0\n",
    "\n",
    "    if (len(psd) == 10):\n",
    "        for i in range(len(psd)):\n",
    "            # print(ord(psd[i]))\n",
    "            if ((psd[i]) < chr(58) and psd[i] > chr(48)):\n",
    "                intc += 1\n",
    "                intf = 1\n",
    "                # print(i, \"int\", psd[i])\n",
    "            elif ((psd[i] < chr(48) and psd[i] > chr(32)) or (psd[i] < chr(65) and psd[i] > chr(57))):\n",
    "                sc += 1\n",
    "                if (sc == 3):\n",
    "                    sf = 1\n",
    "                # print(i, \"sp\", psd[i])\n",
    "            elif (psd[i] == psd[i].upper()):\n",
    "                uc += 1\n",
    "                if (uc == 2):\n",
    "                    uf = 1\n",
    "                # print(i, \"u\", psd[i])\n",
    "            elif (psd[i] == psd[i].lower()):\n",
    "                lc += 1\n",
    "                if (lc == 2):\n",
    "                    lf = 1\n",
    "                # print(i, \"l\", psd[i])\n",
    "    if (uf and lf and intf and sf):\n",
    "        print(\"Valid Password\")\n",
    "    else:\n",
    "        print(\"Invalid Password\")\n",
    "\n",
    "\n",
    "chkpass(\"HimaP@24%$\")\n",
    "chkpass(\"InvalidPassword\")\n",
    "chkpass(\"Data!!1Sc#\")\n",
    "chkpass(\"Data!!1Scien#\")\n",
    "   "
   ]
  },
  {
   "cell_type": "markdown",
   "id": "88a9d2e3",
   "metadata": {},
   "source": []
  },
  {
   "cell_type": "code",
   "execution_count": null,
   "id": "1610f8f1",
   "metadata": {},
   "outputs": [],
   "source": []
  },
  {
   "cell_type": "markdown",
   "id": "e6bfa0c3",
   "metadata": {},
   "source": [
    "Q2. Solve the below-given questions using at least one of the following:\n",
    "1. Lambda function\n",
    "2. Filter function\n",
    "3. Map function\n",
    "4. List Comprehension\n",
    "\n",
    " Check if the string starts with a particular letter.\n",
    " \n",
    " Check if the string is numeric.\n",
    " \n",
    " Sort a list of tuples having fruit names and their quantity [(\"mango\",99),(\"orange\",80), (\"grapes\", 1000).\n",
    " \n",
    " Find the squares of numbers from 1 to 10.\n",
    " \n",
    " Find the cube root of numbers from 1 to 10.\n",
    " \n",
    " Check if a given number is even.\n",
    " \n",
    " Filter odd numbers from the given list. [1,2,3,4,5,6,7,8,9,10.\n",
    " \n",
    " Sort a list of integers into positive and negative integers lists. [1,2,3,4,5,6,-1,-2,-3,-4,-5,0]"
   ]
  },
  {
   "cell_type": "code",
   "execution_count": 35,
   "id": "1e262ea3",
   "metadata": {},
   "outputs": [
    {
     "name": "stdout",
     "output_type": "stream",
     "text": [
      "enter to check in upper case: A\n",
      "valid\n"
     ]
    }
   ],
   "source": [
    "#Check if the string starts with a particular letter.\n",
    "str = 'ABCDFG'\n",
    "n= input('enter to check in upper case: ')\n",
    "\n",
    "print('valid') if str[0]==n else print('invalid')\n",
    "\n"
   ]
  },
  {
   "cell_type": "code",
   "execution_count": 60,
   "id": "eb2662e0",
   "metadata": {},
   "outputs": [],
   "source": [
    "#Check if the string is numeric.\n",
    "def check(str2):\n",
    "   f= [True if str2.isnumeric() else False]\n",
    "   print(f)\n",
    "    \n",
    "    "
   ]
  },
  {
   "cell_type": "code",
   "execution_count": 62,
   "id": "026b69a8",
   "metadata": {},
   "outputs": [
    {
     "name": "stdout",
     "output_type": "stream",
     "text": [
      "[True]\n"
     ]
    }
   ],
   "source": [
    "check('555')"
   ]
  },
  {
   "cell_type": "markdown",
   "id": "003099bc",
   "metadata": {},
   "source": [
    "Sort a list of tuples having fruit names and their quantity [(\"mango\",99),(\"orange\",80), (\"grapes\", 1000)]."
   ]
  },
  {
   "cell_type": "code",
   "execution_count": 74,
   "id": "7d2474ec",
   "metadata": {},
   "outputs": [
    {
     "data": {
      "text/plain": [
       "[('orange', 80), ('mango', 99), ('grapes', 1000)]"
      ]
     },
     "execution_count": 74,
     "metadata": {},
     "output_type": "execute_result"
    }
   ],
   "source": [
    "df=[(\"mango\",99),(\"orange\",80), (\"grapes\", 1000)]\n",
    "\n",
    "df.sort(key=lambda i:i[1])\n",
    "df        "
   ]
  },
  {
   "cell_type": "markdown",
   "id": "b8253211",
   "metadata": {},
   "source": [
    "Find the squares of numbers from 1 to 10."
   ]
  },
  {
   "cell_type": "code",
   "execution_count": 4,
   "id": "eacdd7f5",
   "metadata": {},
   "outputs": [
    {
     "data": {
      "text/plain": [
       "[1, 4, 9, 16, 25, 36, 49, 64, 81, 100]"
      ]
     },
     "execution_count": 4,
     "metadata": {},
     "output_type": "execute_result"
    }
   ],
   "source": [
    "l=list(range(1,11))\n",
    "sq=map(lambda x: x**2,l)\n",
    "list(sq)"
   ]
  },
  {
   "cell_type": "markdown",
   "id": "4f68b266",
   "metadata": {},
   "source": [
    "Find the cube root of numbers from 1 to 10."
   ]
  },
  {
   "cell_type": "code",
   "execution_count": 5,
   "id": "780ee850",
   "metadata": {},
   "outputs": [
    {
     "data": {
      "text/plain": [
       "[1, 8, 27, 64, 125, 216, 343, 512, 729, 1000]"
      ]
     },
     "execution_count": 5,
     "metadata": {},
     "output_type": "execute_result"
    }
   ],
   "source": [
    "l2=list(range(1,11))\n",
    "cube=map(lambda x: x*x*x,l2)\n",
    "list(cube)"
   ]
  },
  {
   "cell_type": "markdown",
   "id": "c2fdfec3",
   "metadata": {},
   "source": [
    "Check if a given number is even."
   ]
  },
  {
   "cell_type": "code",
   "execution_count": 13,
   "id": "3b203e7e",
   "metadata": {},
   "outputs": [
    {
     "name": "stdout",
     "output_type": "stream",
     "text": [
      "enter no.: 5\n",
      "odd\n"
     ]
    }
   ],
   "source": [
    "n = int(input('enter no.: '))\n",
    "print('even') if n%2==0 else print('odd')\n"
   ]
  },
  {
   "cell_type": "markdown",
   "id": "73d7355e",
   "metadata": {},
   "source": [
    "Filter odd numbers from the given list. [1,2,3,4,5,6,7,8,9,10]\n",
    "\n"
   ]
  },
  {
   "cell_type": "code",
   "execution_count": 20,
   "id": "afb58e79",
   "metadata": {},
   "outputs": [
    {
     "data": {
      "text/plain": [
       "[1, 3, 5, 7, 9]"
      ]
     },
     "execution_count": 20,
     "metadata": {},
     "output_type": "execute_result"
    }
   ],
   "source": [
    "l =  [1,2,3,4,5,6,7,8,9,10]\n",
    "\n",
    "check2 = filter(lambda x : x%2 !=0 ,l)\n",
    "list(check2)"
   ]
  },
  {
   "cell_type": "markdown",
   "id": "2e1b8e67",
   "metadata": {},
   "source": [
    "Sort a list of integers into positive and negative integers lists. [1,2,3,4,5,6,-1,-2,-3,-4,-5,0]"
   ]
  },
  {
   "cell_type": "code",
   "execution_count": 13,
   "id": "302ac3e5",
   "metadata": {},
   "outputs": [
    {
     "data": {
      "text/plain": [
       "([-1, -2, -3, -4, -5], [1, 2, 3, 4, 5, 6, 0])"
      ]
     },
     "execution_count": 13,
     "metadata": {},
     "output_type": "execute_result"
    }
   ],
   "source": [
    "l=[1,2,3,4,5,6,-1,-2,-3,-4,-5,0]\n",
    "p =filter(lambda x : x<0 ,l)\n",
    "n = filter(lambda x : x>=0 ,l)\n",
    "list(p),list(n)"
   ]
  },
  {
   "cell_type": "code",
   "execution_count": null,
   "id": "8bfe5970",
   "metadata": {},
   "outputs": [],
   "source": []
  }
 ],
 "metadata": {
  "kernelspec": {
   "display_name": "Python 3 (ipykernel)",
   "language": "python",
   "name": "python3"
  },
  "language_info": {
   "codemirror_mode": {
    "name": "ipython",
    "version": 3
   },
   "file_extension": ".py",
   "mimetype": "text/x-python",
   "name": "python",
   "nbconvert_exporter": "python",
   "pygments_lexer": "ipython3",
   "version": "3.9.12"
  }
 },
 "nbformat": 4,
 "nbformat_minor": 5
}
