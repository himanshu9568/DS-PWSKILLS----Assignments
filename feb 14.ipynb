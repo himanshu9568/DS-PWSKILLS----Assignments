{
 "cells": [
  {
   "cell_type": "markdown",
   "id": "5aaf7ba4",
   "metadata": {},
   "source": [
    "\n",
    "1.What is multithreading in python? Why is it used? \n",
    "Name the module used to handle threads in python Multithreading allows you to break down an application into multiple sub-tasks and run these tasks simultaneously. Multithreading is defined as the ability of a processor to execute multiple threads concurrently. If you use multithreading properly, your application speed, performance, and rendering can all be improved.\n",
    "\n",
    "Python provides one inbuilt module \"threading\" to provide support for developing threads.\n"
   ]
  },
  {
   "cell_type": "code",
   "execution_count": 2,
   "id": "372bd959",
   "metadata": {},
   "outputs": [
    {
     "name": "stdout",
     "output_type": "stream",
     "text": [
      "The Number of active Threads: 9\n",
      "The Number of active Threads: 7\n"
     ]
    }
   ],
   "source": [
    "# Why threading module used? Write the use of the following functions\n",
    "# ---activeCount()\n",
    "# ---currentThread()\n",
    "# ----enumerate()\n",
    "# ----active_count()\n",
    "\n",
    "#This function returns the number of active threads currently running\n",
    "import time\n",
    "from threading import *\n",
    "def test(id) :\n",
    "    for i in range(id):\n",
    "        time.sleep(0.5)\n",
    "\n",
    "thred = [Thread(target=test , args = (i,)) for i in [10 , 2 , 5]]\n",
    "for t in thred:\n",
    "    t.start()\n",
    "print(\"The Number of active Threads:\",active_count())\n",
    "time.sleep(3)\n",
    "print(\"The Number of active Threads:\",active_count())"
   ]
  },
  {
   "cell_type": "code",
   "execution_count": 3,
   "id": "6d82a1ab",
   "metadata": {},
   "outputs": [
    {
     "name": "stdout",
     "output_type": "stream",
     "text": [
      "Current Executing Thread: MainThread\n",
      "<_MainThread(MainThread, started 14432)>\n",
      "<Thread(IOPub, started daemon 16756)>\n",
      "<Heartbeat(Heartbeat, started daemon 12416)>\n",
      "<ControlThread(Control, started daemon 16680)>\n",
      "<HistorySavingThread(IPythonHistorySavingThread, started 16864)>\n",
      "<ParentPollerWindows(Thread-4, started daemon 18000)>\n"
     ]
    }
   ],
   "source": [
    "#We use the current_thread() function to get the current thread object.\n",
    "import threading\n",
    "print(\"Current Executing Thread:\",threading.current_thread().getName())\n",
    "enumerate()\n",
    "\n",
    "#This function returns a list of all active threads currently running\n",
    "from threading import *\n",
    "threads =enumerate()\n",
    "for i in threads:\n",
    "    print(i)"
   ]
  },
  {
   "cell_type": "code",
   "execution_count": null,
   "id": "2e323d10",
   "metadata": {},
   "outputs": [],
   "source": [
    "# Explain the following functions\n",
    "# run()\n",
    "# start()\n",
    "# join()\n",
    "# isAlive()\n",
    "# start()\n",
    "\n",
    "# When a thread instance is created, it doesn’t start executing until its start() method (which invokes the target function with the arguments you supplied) is invoked.\n",
    "# run()\n",
    "\n",
    "# The .run() method executes any target function belonging to a given thread object that is now active.\n",
    "# It normally executes in the background after the start() method is invoked.\n",
    "import threading\n",
    "\n",
    "class CustomThread(threading.Thread):\n",
    "  def run(self):\n",
    "    print(\"This is my custom run!\")\n",
    "\n",
    "custom_thread = CustomThread()\n",
    "custom_thread.start()\n",
    "isAlive()\n",
    "\n",
    "# isAlive() method checks whether a thread is still executing or not.\n",
    "# join()\n",
    "\n",
    "# If a thread wants to wait until completing some other thread then we should go for join() method."
   ]
  },
  {
   "cell_type": "markdown",
   "id": "3dada71f",
   "metadata": {},
   "source": [
    " 5 -State advantages and disadvantages of multithreading\n",
    "Disadvantages of multithreading\n",
    "\n",
    "---It needs more careful synchronization.\n",
    "---My have Deadlocks and Race conditions\n",
    "---It imposes context switching overhead.\n",
    "---It can consume a large space of stocks of blocked threads.\n",
    "---It needs support for thread or process.\n",
    "---If a parent process has several threads for proper process functioning, the child processes should also be multithreaded because they may be required.\n",
    "Advantages of multithreading\n",
    "\n",
    "---Enables efficient utilization of the resources as the threads share the data space and memory.\n",
    "---Allows the concurrent and parallel exwcution of various tasks.\n",
    "----Reduction in time consumption or response time, thereby increasing the performance.\n",
    "\n",
    "\n"
   ]
  },
  {
   "cell_type": "markdown",
   "id": "f8d36fbc",
   "metadata": {},
   "source": [
    "6.Explain deadlocks and race conditions.\n",
    "A situation where a set of processes are blocked because each process is holding a resource and waiting for another resource acquired by some other process. This block situation is called Deadlock(DL)\n",
    "\n",
    "Race condition is an undesirable condition that usually happens due to multiple threads accessing a shared resource at the same time. Due to which shared data are not synchronized,"
   ]
  },
  {
   "cell_type": "code",
   "execution_count": null,
   "id": "02976f59",
   "metadata": {},
   "outputs": [],
   "source": []
  },
  {
   "cell_type": "code",
   "execution_count": null,
   "id": "046cfbd4",
   "metadata": {},
   "outputs": [],
   "source": []
  },
  {
   "cell_type": "code",
   "execution_count": null,
   "id": "47eea97c",
   "metadata": {},
   "outputs": [],
   "source": []
  }
 ],
 "metadata": {
  "kernelspec": {
   "display_name": "Python 3 (ipykernel)",
   "language": "python",
   "name": "python3"
  },
  "language_info": {
   "codemirror_mode": {
    "name": "ipython",
    "version": 3
   },
   "file_extension": ".py",
   "mimetype": "text/x-python",
   "name": "python",
   "nbconvert_exporter": "python",
   "pygments_lexer": "ipython3",
   "version": "3.9.12"
  }
 },
 "nbformat": 4,
 "nbformat_minor": 5
}
