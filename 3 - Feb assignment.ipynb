{
 "cells": [
  {
   "cell_type": "markdown",
   "id": "d2082f2c",
   "metadata": {},
   "source": [
    "### Q1. Which keyword is used to create a function? Create a function to return a list of odd numbers in the range of 1 to 25.\n",
    "\n",
    "Ans - 'def function_name()' is use to create functon.\n",
    "\n",
    "\n",
    "      \n",
    "        \n",
    "\n"
   ]
  },
  {
   "cell_type": "code",
   "execution_count": 46,
   "id": "34b2956b",
   "metadata": {},
   "outputs": [],
   "source": [
    "def odd_num():\n",
    "    l=[]\n",
    "    for i in range(1,25):\n",
    "        if i%2!=0:\n",
    "            l.append(i)\n",
    "    print(l)\n",
    "            "
   ]
  },
  {
   "cell_type": "code",
   "execution_count": 47,
   "id": "4965f259",
   "metadata": {},
   "outputs": [
    {
     "name": "stdout",
     "output_type": "stream",
     "text": [
      "[1, 3, 5, 7, 9, 11, 13, 15, 17, 19, 21, 23]\n"
     ]
    }
   ],
   "source": [
    "odd_num()"
   ]
  },
  {
   "cell_type": "markdown",
   "id": "9944cf51",
   "metadata": {},
   "source": [
    "### Q2.Why *args and **kwargs is used in some functions? Create a function each for *args and **kwargs to demonstrate their use.\n",
    "\n",
    "ANS- args and kwargs is used when we are unsure about the number of arguments to pass in the functions."
   ]
  },
  {
   "cell_type": "code",
   "execution_count": 42,
   "id": "6658cff6",
   "metadata": {},
   "outputs": [],
   "source": [
    "def func(*args):\n",
    "    return sum(args)\n",
    "    \n",
    "    "
   ]
  },
  {
   "cell_type": "code",
   "execution_count": 43,
   "id": "31f73777",
   "metadata": {},
   "outputs": [
    {
     "data": {
      "text/plain": [
       "22"
      ]
     },
     "execution_count": 43,
     "metadata": {},
     "output_type": "execute_result"
    }
   ],
   "source": [
    "func(5,8,9)"
   ]
  },
  {
   "cell_type": "code",
   "execution_count": 44,
   "id": "22662a13",
   "metadata": {},
   "outputs": [],
   "source": [
    "def func2(**kwargs):\n",
    "    return kwargs"
   ]
  },
  {
   "cell_type": "code",
   "execution_count": 45,
   "id": "1ee3244c",
   "metadata": {},
   "outputs": [
    {
     "data": {
      "text/plain": [
       "{'name': 'himnashu', 'place': 'India', 'Capital': 'Delhi'}"
      ]
     },
     "execution_count": 45,
     "metadata": {},
     "output_type": "execute_result"
    }
   ],
   "source": [
    "func2(name = 'himnashu',place = 'India',Capital = 'Delhi')"
   ]
  },
  {
   "cell_type": "markdown",
   "id": "607280ad",
   "metadata": {},
   "source": [
    "### Q3. What is an iterator in python? Name the method used to initialise the iterator object and the method used for iteration. Use these methods to print the first five elements of the given list [2, 4, 6, 8, 10, 12, 14, 16, 18, 20]."
   ]
  },
  {
   "cell_type": "code",
   "execution_count": 49,
   "id": "ba0cc01e",
   "metadata": {},
   "outputs": [
    {
     "name": "stdout",
     "output_type": "stream",
     "text": [
      "2\n",
      "4\n",
      "6\n",
      "8\n",
      "10\n"
     ]
    }
   ],
   "source": [
    "# AN iterator is an obect that use to iterate over iterables objects.\n",
    "# iter() and next() method used for iteration.\n",
    "\n",
    "l1 = [2,4,6,8,10,12,14,16,18,20]\n",
    "\n",
    "l = iter(l1)\n",
    "\n",
    "for i in range(1,6):\n",
    "    print(next(l))"
   ]
  },
  {
   "cell_type": "markdown",
   "id": "2cf8ec0d",
   "metadata": {},
   "source": [
    "### Q4. What is a generator function in python? Why yield keyword is used? Give an example of a generatorfunction."
   ]
  },
  {
   "cell_type": "code",
   "execution_count": 67,
   "id": "40bebc5c",
   "metadata": {},
   "outputs": [],
   "source": [
    "# generator  function are used to create or drclare iterable objects.\n",
    "\n",
    "# Yield sends a value back to the caller.\n",
    "\n",
    "def gen(x):\n",
    "    for i in range(x):\n",
    "        yield i\n",
    "g = gen(10)\n"
   ]
  },
  {
   "cell_type": "code",
   "execution_count": 68,
   "id": "1b9ddaae",
   "metadata": {},
   "outputs": [
    {
     "name": "stdout",
     "output_type": "stream",
     "text": [
      "0\n",
      "1\n",
      "2\n",
      "3\n",
      "4\n",
      "5\n",
      "6\n",
      "7\n",
      "8\n",
      "9\n"
     ]
    }
   ],
   "source": [
    "for j in g:\n",
    "    print(j)"
   ]
  },
  {
   "cell_type": "markdown",
   "id": "41a2d176",
   "metadata": {},
   "source": [
    "### Q5. Create a generator function for prime numbers less than 1000. Use the next() method to print the first 20 prime numbers."
   ]
  },
  {
   "cell_type": "code",
   "execution_count": 177,
   "id": "ba105e93",
   "metadata": {},
   "outputs": [],
   "source": [
    "# if n<1:\n",
    "#     print(\"not a prime\")\n",
    "# else:\n",
    "#     is_prime = True\n",
    "    \n",
    "#     for i in range(2,n):\n",
    "#         if n%i == 0:\n",
    "#             is_prime = False\n",
    "#             break         \n",
    "#     if  is_prime == True:\n",
    "#             print('is prime')\n",
    "#     else:\n",
    "#         print('not a prime')\n",
    "        \n",
    "    \n",
    "    \n",
    "def prime(n):\n",
    "    \n",
    "    n1 = 2\n",
    "    while n1<=n:\n",
    "        is_prime = True\n",
    "        for i in range(2,n1//2+1) :\n",
    "            if n1%i==0:\n",
    "                is_prime =False\n",
    "        if is_prime==True:\n",
    "            yield n1\n",
    "        n1=n1+1\n",
    "            \n",
    "    \n",
    "        \n",
    "        "
   ]
  },
  {
   "cell_type": "code",
   "execution_count": 178,
   "id": "3e06a411",
   "metadata": {},
   "outputs": [],
   "source": [
    "prime1 = prime(1000)"
   ]
  },
  {
   "cell_type": "code",
   "execution_count": 182,
   "id": "4558b0f2",
   "metadata": {},
   "outputs": [
    {
     "name": "stdout",
     "output_type": "stream",
     "text": [
      "1th prime no 283\n",
      "2th prime no 293\n",
      "3th prime no 307\n",
      "4th prime no 311\n",
      "5th prime no 313\n",
      "6th prime no 317\n",
      "7th prime no 331\n",
      "8th prime no 337\n",
      "9th prime no 347\n",
      "10th prime no 349\n",
      "11th prime no 353\n",
      "12th prime no 359\n",
      "13th prime no 367\n",
      "14th prime no 373\n",
      "15th prime no 379\n",
      "16th prime no 383\n",
      "17th prime no 389\n",
      "18th prime no 397\n",
      "19th prime no 401\n",
      "20th prime no 409\n"
     ]
    }
   ],
   "source": [
    "counts = 1\n",
    "for i in range(20):\n",
    "     print(f\"{counts}th prime no {next(prime1)}\")\n",
    "    counts+=1 "
   ]
  },
  {
   "cell_type": "markdown",
   "id": "2d14db9c",
   "metadata": {},
   "source": [
    "### Q6. Write a python program to print the first 10 Fibonacci numbers using a while loop."
   ]
  },
  {
   "cell_type": "code",
   "execution_count": 93,
   "id": "10b2b03c",
   "metadata": {},
   "outputs": [
    {
     "name": "stdout",
     "output_type": "stream",
     "text": [
      "0\n",
      "1\n",
      "1\n",
      "2\n",
      "3\n",
      "5\n",
      "8\n",
      "13\n",
      "21\n",
      "34\n"
     ]
    }
   ],
   "source": [
    "a,b =0,1\n",
    "count = 1\n",
    "while count <=10:\n",
    "        print(a)\n",
    "        a,b = b,a+b\n",
    "        count = count+1\n",
    "        "
   ]
  },
  {
   "cell_type": "markdown",
   "id": "e496cc4d",
   "metadata": {},
   "source": [
    "### Q7. Write a List Comprehension to iterate through the given string: ‘pwskills’. Expected output: ['p', 'w', 's', 'k', 'i', 'l', 'l', 's']"
   ]
  },
  {
   "cell_type": "code",
   "execution_count": 94,
   "id": "216ce9b6",
   "metadata": {},
   "outputs": [
    {
     "data": {
      "text/plain": [
       "['p', 'w', 's', 'k', 'i', 'l', 'l', 's']"
      ]
     },
     "execution_count": 94,
     "metadata": {},
     "output_type": "execute_result"
    }
   ],
   "source": [
    "str = 'pwskills'\n",
    "\n",
    "list(i for i in str )"
   ]
  },
  {
   "cell_type": "markdown",
   "id": "880e270a",
   "metadata": {},
   "source": [
    "### Q8. Write a python program to check whether a given number is Palindrome or not using a while loop."
   ]
  },
  {
   "cell_type": "code",
   "execution_count": null,
   "id": "0f2af990",
   "metadata": {},
   "outputs": [],
   "source": []
  },
  {
   "cell_type": "code",
   "execution_count": null,
   "id": "15ad8f63",
   "metadata": {},
   "outputs": [],
   "source": []
  },
  {
   "cell_type": "markdown",
   "id": "0e2760bb",
   "metadata": {},
   "source": [
    "### Q9. Write a code to print odd numbers from 1 to 100 using list comprehension."
   ]
  },
  {
   "cell_type": "code",
   "execution_count": 100,
   "id": "aef0293c",
   "metadata": {},
   "outputs": [],
   "source": [
    "list1= list(i for i in range(1,101))"
   ]
  },
  {
   "cell_type": "code",
   "execution_count": 110,
   "id": "a298133b",
   "metadata": {},
   "outputs": [],
   "source": [
    "list2 =  list( i for i in list1 if i%2!=0)"
   ]
  },
  {
   "cell_type": "code",
   "execution_count": 111,
   "id": "19e9d0f2",
   "metadata": {},
   "outputs": [
    {
     "data": {
      "text/plain": [
       "[1,\n",
       " 3,\n",
       " 5,\n",
       " 7,\n",
       " 9,\n",
       " 11,\n",
       " 13,\n",
       " 15,\n",
       " 17,\n",
       " 19,\n",
       " 21,\n",
       " 23,\n",
       " 25,\n",
       " 27,\n",
       " 29,\n",
       " 31,\n",
       " 33,\n",
       " 35,\n",
       " 37,\n",
       " 39,\n",
       " 41,\n",
       " 43,\n",
       " 45,\n",
       " 47,\n",
       " 49,\n",
       " 51,\n",
       " 53,\n",
       " 55,\n",
       " 57,\n",
       " 59,\n",
       " 61,\n",
       " 63,\n",
       " 65,\n",
       " 67,\n",
       " 69,\n",
       " 71,\n",
       " 73,\n",
       " 75,\n",
       " 77,\n",
       " 79,\n",
       " 81,\n",
       " 83,\n",
       " 85,\n",
       " 87,\n",
       " 89,\n",
       " 91,\n",
       " 93,\n",
       " 95,\n",
       " 97,\n",
       " 99]"
      ]
     },
     "execution_count": 111,
     "metadata": {},
     "output_type": "execute_result"
    }
   ],
   "source": [
    "list2"
   ]
  },
  {
   "cell_type": "code",
   "execution_count": null,
   "id": "474193cb",
   "metadata": {},
   "outputs": [],
   "source": []
  }
 ],
 "metadata": {
  "kernelspec": {
   "display_name": "Python 3 (ipykernel)",
   "language": "python",
   "name": "python3"
  },
  "language_info": {
   "codemirror_mode": {
    "name": "ipython",
    "version": 3
   },
   "file_extension": ".py",
   "mimetype": "text/x-python",
   "name": "python",
   "nbconvert_exporter": "python",
   "pygments_lexer": "ipython3",
   "version": "3.9.12"
  }
 },
 "nbformat": 4,
 "nbformat_minor": 5
}
